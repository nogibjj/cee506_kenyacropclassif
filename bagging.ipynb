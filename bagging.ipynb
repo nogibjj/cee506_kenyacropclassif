{
 "cells": [
  {
   "cell_type": "code",
   "execution_count": null,
   "metadata": {},
   "outputs": [],
   "source": [
    "import os\n",
    "import rasterio\n",
    "import numpy as np\n",
    "import pandas as pd\n",
    "from sklearn.model_selection import train_test_split\n",
    "from sklearn.svm import SVC \n",
    "from sklearn.metrics import classification_report, confusion_matrix \n",
    "from sklearn.ensemble import BaggingClassifier\n",
    "from sklearn.tree import DecisionTreeClassifier\n",
    "from sklearn.model_selection import GridSearchCV\n",
    "\n"
   ]
  },
  {
   "cell_type": "code",
   "execution_count": null,
   "metadata": {},
   "outputs": [],
   "source": [
    "\n",
    "train_files = ['tile00.csv', 'tile01.csv', 'tile03.csv']\n",
    "train = pd.concat([pd.read_csv(f) for f in train_files ], ignore_index=True)\n",
    "X_train = train.loc[:, train.columns != 'class']\n",
    "y_train = train[['class']]\n",
    "\n",
    "X_train = X_train.rename(columns={x:y for x,y in zip(X_train.columns,range(0,len(X_train.columns)))})\n",
    "X_train.fillna(0, inplace=True)\n",
    "y_train.fillna(0, inplace=True)\n",
    "y_train = y_train.values.ravel()\n",
    "\n",
    "test = pd.read_csv('tile02.csv')\n",
    "X_test = test.loc[:, test.columns != 'class']\n",
    "y_test = test[['class']]\n",
    "y_test = y_test.values.ravel()\n"
   ]
  },
  {
   "cell_type": "code",
   "execution_count": null,
   "metadata": {},
   "outputs": [],
   "source": [
    "clf = BaggingClassifier(estimator=DecisionTreeClassifier(), n_estimators=30, random_state=0, verbose=1).fit(X_train, y_train)\n",
    "predictions = clf.predict(X_test)\n",
    "print(classification_report(y_test, predictions))"
   ]
  },
  {
   "cell_type": "code",
   "execution_count": null,
   "metadata": {},
   "outputs": [],
   "source": [
    "\n",
    "bc_params = {\"base_estimator__max_depth\": [3,5,10,20],\n",
    "          \"base_estimator__max_features\": [None, \"auto\"],\n",
    "          \"base_estimator__min_samples_leaf\": [1, 3, 5, 7, 10],\n",
    "          \"base_estimator__min_samples_split\": [2, 5, 7],\n",
    "          'bootstrap_features': [False, True],\n",
    "          'max_features': [0.5, 0.7, 1.0],\n",
    "          'max_samples': [0.5, 0.7, 1.0],\n",
    "          'n_estimators': [25, 50, 100],\n",
    "}\n",
    "\n",
    "\n",
    "bc_gs = GridSearchCV(BaggingClassifier(DecisionTreeClassifier()), bc_params, cv=5, verbose=1)"
   ]
  }
 ],
 "metadata": {
  "language_info": {
   "name": "python"
  }
 },
 "nbformat": 4,
 "nbformat_minor": 2
}
