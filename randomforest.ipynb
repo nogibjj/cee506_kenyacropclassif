{
 "cells": [
  {
   "cell_type": "code",
   "execution_count": 2,
   "metadata": {},
   "outputs": [
    {
     "name": "stdout",
     "output_type": "stream",
     "text": [
      "Requirement already satisfied: scikit-learn in /home/codespace/.local/lib/python3.10/site-packages (1.3.2)\n",
      "Requirement already satisfied: numpy<2.0,>=1.17.3 in /home/codespace/.local/lib/python3.10/site-packages (from scikit-learn) (1.26.2)\n",
      "Requirement already satisfied: scipy>=1.5.0 in /home/codespace/.local/lib/python3.10/site-packages (from scikit-learn) (1.11.4)\n",
      "Requirement already satisfied: joblib>=1.1.1 in /home/codespace/.local/lib/python3.10/site-packages (from scikit-learn) (1.3.2)\n",
      "Requirement already satisfied: threadpoolctl>=2.0.0 in /home/codespace/.local/lib/python3.10/site-packages (from scikit-learn) (3.2.0)\n",
      "Collecting rasterio\n",
      "  Downloading rasterio-1.3.9-cp310-cp310-manylinux2014_x86_64.whl.metadata (14 kB)\n",
      "Collecting affine (from rasterio)\n",
      "  Downloading affine-2.4.0-py3-none-any.whl (15 kB)\n",
      "Requirement already satisfied: attrs in /home/codespace/.local/lib/python3.10/site-packages (from rasterio) (23.1.0)\n",
      "Requirement already satisfied: certifi in /home/codespace/.local/lib/python3.10/site-packages (from rasterio) (2023.11.17)\n",
      "Collecting click>=4.0 (from rasterio)\n",
      "  Downloading click-8.1.7-py3-none-any.whl.metadata (3.0 kB)\n",
      "Collecting cligj>=0.5 (from rasterio)\n",
      "  Downloading cligj-0.7.2-py3-none-any.whl (7.1 kB)\n",
      "Requirement already satisfied: numpy in /home/codespace/.local/lib/python3.10/site-packages (from rasterio) (1.26.2)\n",
      "Collecting snuggs>=1.4.1 (from rasterio)\n",
      "  Downloading snuggs-1.4.7-py3-none-any.whl (5.4 kB)\n",
      "Collecting click-plugins (from rasterio)\n",
      "  Downloading click_plugins-1.1.1-py2.py3-none-any.whl (7.5 kB)\n",
      "Requirement already satisfied: setuptools in /usr/local/python/3.10.13/lib/python3.10/site-packages (from rasterio) (68.2.2)\n",
      "Requirement already satisfied: pyparsing>=2.1.6 in /home/codespace/.local/lib/python3.10/site-packages (from snuggs>=1.4.1->rasterio) (3.1.1)\n",
      "Downloading rasterio-1.3.9-cp310-cp310-manylinux2014_x86_64.whl (20.6 MB)\n",
      "\u001b[2K   \u001b[90m━━━━━━━━━━━━━━━━━━━━━━━━━━━━━━━━━━━━━━━━\u001b[0m \u001b[32m20.6/20.6 MB\u001b[0m \u001b[31m50.3 MB/s\u001b[0m eta \u001b[36m0:00:00\u001b[0m:00:01\u001b[0m00:01\u001b[0m\n",
      "\u001b[?25hDownloading click-8.1.7-py3-none-any.whl (97 kB)\n",
      "\u001b[2K   \u001b[90m━━━━━━━━━━━━━━━━━━━━━━━━━━━━━━━━━━━━━━━━\u001b[0m \u001b[32m97.9/97.9 kB\u001b[0m \u001b[31m2.5 MB/s\u001b[0m eta \u001b[36m0:00:00\u001b[0meta \u001b[36m0:00:01\u001b[0m\n",
      "\u001b[?25hInstalling collected packages: snuggs, click, affine, cligj, click-plugins, rasterio\n",
      "Successfully installed affine-2.4.0 click-8.1.7 click-plugins-1.1.1 cligj-0.7.2 rasterio-1.3.9 snuggs-1.4.7\n"
     ]
    }
   ],
   "source": [
    "!pip install scikit-learn\n",
    "!pip install rasterio"
   ]
  },
  {
   "cell_type": "code",
   "execution_count": 1,
   "metadata": {},
   "outputs": [],
   "source": [
    "import os\n",
    "import rasterio\n",
    "import numpy as np\n",
    "import pandas as pd\n",
    "from sklearn.model_selection import train_test_split\n",
    "from sklearn.ensemble import RandomForestClassifier\n",
    "from sklearn.metrics import accuracy_score, classification_report, log_loss"
   ]
  },
  {
   "cell_type": "code",
   "execution_count": 4,
   "metadata": {},
   "outputs": [
    {
     "name": "stderr",
     "output_type": "stream",
     "text": [
      "/tmp/ipykernel_3431/3763426186.py:8: SettingWithCopyWarning: \n",
      "A value is trying to be set on a copy of a slice from a DataFrame\n",
      "\n",
      "See the caveats in the documentation: https://pandas.pydata.org/pandas-docs/stable/user_guide/indexing.html#returning-a-view-versus-a-copy\n",
      "  y.fillna(0, inplace=True)\n"
     ]
    }
   ],
   "source": [
    "train_files = ['tile00.csv', 'tile01.csv', 'tile02.csv' ,'tile03.csv']\n",
    "train = pd.concat([pd.read_csv(f) for f in train_files], ignore_index=True)\n",
    "X = train.loc[:, train.columns != 'class']\n",
    "y = train[['class']]\n",
    "\n",
    "X = X.rename(columns={x:y for x,y in zip(X.columns,range(0,len(X.columns)))})\n",
    "X.fillna(0, inplace=True)\n",
    "y.fillna(0, inplace=True)\n",
    "\n"
   ]
  },
  {
   "cell_type": "code",
   "execution_count": 5,
   "metadata": {},
   "outputs": [],
   "source": [
    "from sklearn.model_selection import train_test_split\n",
    "X_train, X_test, y_train, y_test = train_test_split(X, y.values.ravel(), test_size=0.3, random_state=42)"
   ]
  },
  {
   "cell_type": "code",
   "execution_count": 5,
   "metadata": {},
   "outputs": [
    {
     "name": "stdout",
     "output_type": "stream",
     "text": [
      "building tree 1 of 30\n",
      "building tree 2 of 30\n",
      "building tree 3 of 30\n",
      "building tree 4 of 30\n",
      "building tree 5 of 30\n",
      "building tree 6 of 30\n",
      "building tree 7 of 30\n",
      "building tree 8 of 30\n",
      "building tree 9 of 30\n",
      "building tree 10 of 30\n",
      "building tree 11 of 30\n",
      "building tree 12 of 30\n",
      "building tree 13 of 30\n",
      "building tree 14 of 30\n",
      "building tree 15 of 30\n",
      "building tree 16 of 30\n",
      "building tree 17 of 30\n",
      "building tree 18 of 30\n",
      "building tree 19 of 30\n",
      "building tree 20 of 30\n",
      "building tree 21 of 30\n",
      "building tree 22 of 30\n",
      "building tree 23 of 30\n",
      "building tree 24 of 30\n",
      "building tree 25 of 30\n",
      "building tree 26 of 30\n",
      "building tree 27 of 30\n",
      "building tree 28 of 30\n",
      "building tree 29 of 30\n",
      "building tree 30 of 30\n"
     ]
    },
    {
     "data": {
      "text/html": [
       "<style>#sk-container-id-1 {color: black;}#sk-container-id-1 pre{padding: 0;}#sk-container-id-1 div.sk-toggleable {background-color: white;}#sk-container-id-1 label.sk-toggleable__label {cursor: pointer;display: block;width: 100%;margin-bottom: 0;padding: 0.3em;box-sizing: border-box;text-align: center;}#sk-container-id-1 label.sk-toggleable__label-arrow:before {content: \"▸\";float: left;margin-right: 0.25em;color: #696969;}#sk-container-id-1 label.sk-toggleable__label-arrow:hover:before {color: black;}#sk-container-id-1 div.sk-estimator:hover label.sk-toggleable__label-arrow:before {color: black;}#sk-container-id-1 div.sk-toggleable__content {max-height: 0;max-width: 0;overflow: hidden;text-align: left;background-color: #f0f8ff;}#sk-container-id-1 div.sk-toggleable__content pre {margin: 0.2em;color: black;border-radius: 0.25em;background-color: #f0f8ff;}#sk-container-id-1 input.sk-toggleable__control:checked~div.sk-toggleable__content {max-height: 200px;max-width: 100%;overflow: auto;}#sk-container-id-1 input.sk-toggleable__control:checked~label.sk-toggleable__label-arrow:before {content: \"▾\";}#sk-container-id-1 div.sk-estimator input.sk-toggleable__control:checked~label.sk-toggleable__label {background-color: #d4ebff;}#sk-container-id-1 div.sk-label input.sk-toggleable__control:checked~label.sk-toggleable__label {background-color: #d4ebff;}#sk-container-id-1 input.sk-hidden--visually {border: 0;clip: rect(1px 1px 1px 1px);clip: rect(1px, 1px, 1px, 1px);height: 1px;margin: -1px;overflow: hidden;padding: 0;position: absolute;width: 1px;}#sk-container-id-1 div.sk-estimator {font-family: monospace;background-color: #f0f8ff;border: 1px dotted black;border-radius: 0.25em;box-sizing: border-box;margin-bottom: 0.5em;}#sk-container-id-1 div.sk-estimator:hover {background-color: #d4ebff;}#sk-container-id-1 div.sk-parallel-item::after {content: \"\";width: 100%;border-bottom: 1px solid gray;flex-grow: 1;}#sk-container-id-1 div.sk-label:hover label.sk-toggleable__label {background-color: #d4ebff;}#sk-container-id-1 div.sk-serial::before {content: \"\";position: absolute;border-left: 1px solid gray;box-sizing: border-box;top: 0;bottom: 0;left: 50%;z-index: 0;}#sk-container-id-1 div.sk-serial {display: flex;flex-direction: column;align-items: center;background-color: white;padding-right: 0.2em;padding-left: 0.2em;position: relative;}#sk-container-id-1 div.sk-item {position: relative;z-index: 1;}#sk-container-id-1 div.sk-parallel {display: flex;align-items: stretch;justify-content: center;background-color: white;position: relative;}#sk-container-id-1 div.sk-item::before, #sk-container-id-1 div.sk-parallel-item::before {content: \"\";position: absolute;border-left: 1px solid gray;box-sizing: border-box;top: 0;bottom: 0;left: 50%;z-index: -1;}#sk-container-id-1 div.sk-parallel-item {display: flex;flex-direction: column;z-index: 1;position: relative;background-color: white;}#sk-container-id-1 div.sk-parallel-item:first-child::after {align-self: flex-end;width: 50%;}#sk-container-id-1 div.sk-parallel-item:last-child::after {align-self: flex-start;width: 50%;}#sk-container-id-1 div.sk-parallel-item:only-child::after {width: 0;}#sk-container-id-1 div.sk-dashed-wrapped {border: 1px dashed gray;margin: 0 0.4em 0.5em 0.4em;box-sizing: border-box;padding-bottom: 0.4em;background-color: white;}#sk-container-id-1 div.sk-label label {font-family: monospace;font-weight: bold;display: inline-block;line-height: 1.2em;}#sk-container-id-1 div.sk-label-container {text-align: center;}#sk-container-id-1 div.sk-container {/* jupyter's `normalize.less` sets `[hidden] { display: none; }` but bootstrap.min.css set `[hidden] { display: none !important; }` so we also need the `!important` here to be able to override the default hidden behavior on the sphinx rendered scikit-learn.org. See: https://github.com/scikit-learn/scikit-learn/issues/21755 */display: inline-block !important;position: relative;}#sk-container-id-1 div.sk-text-repr-fallback {display: none;}</style><div id=\"sk-container-id-1\" class=\"sk-top-container\"><div class=\"sk-text-repr-fallback\"><pre>RandomForestClassifier(n_estimators=30, random_state=42, verbose=2)</pre><b>In a Jupyter environment, please rerun this cell to show the HTML representation or trust the notebook. <br />On GitHub, the HTML representation is unable to render, please try loading this page with nbviewer.org.</b></div><div class=\"sk-container\" hidden><div class=\"sk-item\"><div class=\"sk-estimator sk-toggleable\"><input class=\"sk-toggleable__control sk-hidden--visually\" id=\"sk-estimator-id-1\" type=\"checkbox\" checked><label for=\"sk-estimator-id-1\" class=\"sk-toggleable__label sk-toggleable__label-arrow\">RandomForestClassifier</label><div class=\"sk-toggleable__content\"><pre>RandomForestClassifier(n_estimators=30, random_state=42, verbose=2)</pre></div></div></div></div></div>"
      ],
      "text/plain": [
       "RandomForestClassifier(n_estimators=30, random_state=42, verbose=2)"
      ]
     },
     "execution_count": 5,
     "metadata": {},
     "output_type": "execute_result"
    }
   ],
   "source": [
    "# Train the Random Forest classifier\n",
    "clf = RandomForestClassifier(n_estimators=30, random_state=42, verbose=2)\n",
    "clf.fit(X_train, y_train)\n"
   ]
  },
  {
   "cell_type": "code",
   "execution_count": 6,
   "metadata": {},
   "outputs": [],
   "source": [
    "predictions = clf.predict(X_test)\n"
   ]
  },
  {
   "cell_type": "code",
   "execution_count": 7,
   "metadata": {},
   "outputs": [
    {
     "name": "stderr",
     "output_type": "stream",
     "text": [
      "/home/codespace/.local/lib/python3.10/site-packages/sklearn/metrics/_classification.py:1471: UndefinedMetricWarning: Precision and F-score are ill-defined and being set to 0.0 in labels with no predicted samples. Use `zero_division` parameter to control this behavior.\n",
      "  _warn_prf(average, modifier, msg_start, len(result))\n",
      "/home/codespace/.local/lib/python3.10/site-packages/sklearn/metrics/_classification.py:1471: UndefinedMetricWarning: Precision and F-score are ill-defined and being set to 0.0 in labels with no predicted samples. Use `zero_division` parameter to control this behavior.\n",
      "  _warn_prf(average, modifier, msg_start, len(result))\n"
     ]
    },
    {
     "name": "stdout",
     "output_type": "stream",
     "text": [
      "              precision    recall  f1-score   support\n",
      "\n",
      "         0.0       1.00      1.00      1.00   3138409\n",
      "         1.0       0.86      0.20      0.32       487\n",
      "         2.0       0.90      0.22      0.35       279\n",
      "         3.0       1.00      1.00      1.00         1\n",
      "         4.0       0.76      0.20      0.32       185\n",
      "         5.0       0.75      0.14      0.23        65\n",
      "         6.0       0.88      0.15      0.26        46\n",
      "         7.0       0.00      0.00      0.00        10\n",
      "\n",
      "    accuracy                           1.00   3139482\n",
      "   macro avg       0.77      0.36      0.43   3139482\n",
      "weighted avg       1.00      1.00      1.00   3139482\n",
      "\n"
     ]
    },
    {
     "name": "stderr",
     "output_type": "stream",
     "text": [
      "/home/codespace/.local/lib/python3.10/site-packages/sklearn/metrics/_classification.py:1471: UndefinedMetricWarning: Precision and F-score are ill-defined and being set to 0.0 in labels with no predicted samples. Use `zero_division` parameter to control this behavior.\n",
      "  _warn_prf(average, modifier, msg_start, len(result))\n"
     ]
    }
   ],
   "source": [
    "\n",
    "print(classification_report(y_test, predictions))"
   ]
  },
  {
   "cell_type": "code",
   "execution_count": 8,
   "metadata": {},
   "outputs": [
    {
     "name": "stdout",
     "output_type": "stream",
     "text": [
      "[0. 1. 2. 3. 4. 5. 6.] [0. 1. 2. 3. 4. 5. 6. 7.] [0. 1. 2. 3. 4. 5. 6. 7.]\n"
     ]
    }
   ],
   "source": [
    "print(np.unique(predictions), np.unique(y_test), np.unique(y_train))"
   ]
  },
  {
   "cell_type": "markdown",
   "metadata": {},
   "source": [
    "## Hyperparamter Tuning with GridSearch"
   ]
  },
  {
   "cell_type": "code",
   "execution_count": 6,
   "metadata": {},
   "outputs": [],
   "source": [
    "from sklearn.model_selection import RandomizedSearchCV\n",
    "rs_space={'max_depth':[None, 3],\n",
    "              'n_estimators':[10,20],\n",
    "              'max_features':[1, 5, 10],\n",
    "              'criterion':['gini','entropy'],\n",
    "              'min_samples_leaf':[1, 2, 3, 4],\n",
    "              'min_samples_split':[2, 5]\n",
    "          }\n",
    "\n",
    "rf = RandomForestClassifier()\n",
    "\n",
    "rf_random = RandomizedSearchCV(rf, rs_space, n_iter=50, n_jobs=-1, cv=3, verbose=1)\n"
   ]
  },
  {
   "cell_type": "code",
   "execution_count": 7,
   "metadata": {},
   "outputs": [
    {
     "name": "stdout",
     "output_type": "stream",
     "text": [
      "Fitting 3 folds for each of 50 candidates, totalling 150 fits\n",
      "Best random search hyperparameters are: {'n_estimators': 10, 'min_samples_split': 2, 'min_samples_leaf': 3, 'max_features': 10, 'max_depth': None, 'criterion': 'entropy'}\n",
      "Best random search score is: 0.9996869819862434\n"
     ]
    }
   ],
   "source": [
    "\n",
    "model_random = rf_random.fit(X_train, y_train)\n",
    "\n",
    "# random random search results\n",
    "print('Best random search hyperparameters are: '+str(model_random.best_params_))\n",
    "print('Best random search score is: '+str(model_random.best_score_))"
   ]
  },
  {
   "cell_type": "code",
   "execution_count": 8,
   "metadata": {},
   "outputs": [
    {
     "name": "stderr",
     "output_type": "stream",
     "text": [
      "/home/codespace/.local/lib/python3.10/site-packages/sklearn/metrics/_classification.py:1471: UndefinedMetricWarning: Precision and F-score are ill-defined and being set to 0.0 in labels with no predicted samples. Use `zero_division` parameter to control this behavior.\n",
      "  _warn_prf(average, modifier, msg_start, len(result))\n",
      "/home/codespace/.local/lib/python3.10/site-packages/sklearn/metrics/_classification.py:1471: UndefinedMetricWarning: Precision and F-score are ill-defined and being set to 0.0 in labels with no predicted samples. Use `zero_division` parameter to control this behavior.\n",
      "  _warn_prf(average, modifier, msg_start, len(result))\n"
     ]
    },
    {
     "name": "stdout",
     "output_type": "stream",
     "text": [
      "              precision    recall  f1-score   support\n",
      "\n",
      "         0.0       1.00      1.00      1.00   3138409\n",
      "         1.0       0.87      0.16      0.26       487\n",
      "         2.0       0.94      0.21      0.35       279\n",
      "         3.0       1.00      1.00      1.00         1\n",
      "         4.0       0.80      0.15      0.25       185\n",
      "         5.0       0.75      0.18      0.30        65\n",
      "         6.0       0.90      0.20      0.32        46\n",
      "         7.0       0.00      0.00      0.00        10\n",
      "\n",
      "    accuracy                           1.00   3139482\n",
      "   macro avg       0.78      0.36      0.44   3139482\n",
      "weighted avg       1.00      1.00      1.00   3139482\n",
      "\n"
     ]
    },
    {
     "name": "stderr",
     "output_type": "stream",
     "text": [
      "/home/codespace/.local/lib/python3.10/site-packages/sklearn/metrics/_classification.py:1471: UndefinedMetricWarning: Precision and F-score are ill-defined and being set to 0.0 in labels with no predicted samples. Use `zero_division` parameter to control this behavior.\n",
      "  _warn_prf(average, modifier, msg_start, len(result))\n"
     ]
    }
   ],
   "source": [
    "predictions = rf_random.predict(X_test)\n",
    "print(classification_report(y_test, predictions))"
   ]
  },
  {
   "cell_type": "code",
   "execution_count": 11,
   "metadata": {},
   "outputs": [],
   "source": [
    "# predictions = clf.predict(X_test)\n",
    "# print(classification_report(y_test, predictions))"
   ]
  },
  {
   "cell_type": "markdown",
   "metadata": {},
   "source": [
    "## 10 samples"
   ]
  },
  {
   "cell_type": "code",
   "execution_count": 2,
   "metadata": {},
   "outputs": [
    {
     "name": "stderr",
     "output_type": "stream",
     "text": [
      "/tmp/ipykernel_24629/1150241416.py:7: SettingWithCopyWarning: \n",
      "A value is trying to be set on a copy of a slice from a DataFrame\n",
      "\n",
      "See the caveats in the documentation: https://pandas.pydata.org/pandas-docs/stable/user_guide/indexing.html#returning-a-view-versus-a-copy\n",
      "  y.fillna(0, inplace=True)\n"
     ]
    },
    {
     "name": "stdout",
     "output_type": "stream",
     "text": [
      "0.5433369050217051\n",
      "              precision    recall  f1-score   support\n",
      "\n",
      "           0       0.90      0.99      0.95     59992\n",
      "           1       0.92      0.61      0.73      7528\n",
      "           2       0.96      0.45      0.62      2831\n",
      "           3       0.97      0.42      0.59       480\n",
      "           4       0.97      0.48      0.64      1931\n",
      "           5       0.95      0.45      0.61       604\n",
      "           6       0.99      0.44      0.61       664\n",
      "           7       0.94      0.35      0.51       308\n",
      "\n",
      "    accuracy                           0.91     74338\n",
      "   macro avg       0.95      0.52      0.66     74338\n",
      "weighted avg       0.91      0.91      0.89     74338\n",
      "\n",
      "0.9056202749603164\n"
     ]
    }
   ],
   "source": [
    "train = pd.read_csv('all_tiles_sample1.csv')\n",
    "X = train.loc[:, train.columns != 'class']\n",
    "y = train[['class']]\n",
    "\n",
    "X = X.rename(columns={x:y for x,y in zip(X.columns,range(0,len(X.columns)))})\n",
    "X.fillna(0, inplace=True)\n",
    "y.fillna(0, inplace=True)\n",
    "X_train, X_test, y_train, y_test = train_test_split(X, y.values.ravel(), test_size=0.3, random_state=42)\n",
    "\n",
    "rf = RandomForestClassifier(n_estimators=10, min_samples_split= 2, min_samples_leaf = 3, max_features=10, max_depth=None, criterion='entropy').fit(X_train, y_train)\n",
    "\n",
    "\n",
    "y_pred = rf.predict(X_test)\n",
    "y_prob = rf.predict_proba(X_test)\n",
    "print(log_loss(y_test, y_prob))\n",
    "print(classification_report(y_test, y_pred))\n",
    "print(accuracy_score(y_test, y_pred))\n"
   ]
  },
  {
   "cell_type": "code",
   "execution_count": 3,
   "metadata": {},
   "outputs": [
    {
     "name": "stderr",
     "output_type": "stream",
     "text": [
      "/tmp/ipykernel_24629/3813195334.py:7: SettingWithCopyWarning: \n",
      "A value is trying to be set on a copy of a slice from a DataFrame\n",
      "\n",
      "See the caveats in the documentation: https://pandas.pydata.org/pandas-docs/stable/user_guide/indexing.html#returning-a-view-versus-a-copy\n",
      "  y.fillna(0, inplace=True)\n"
     ]
    },
    {
     "name": "stdout",
     "output_type": "stream",
     "text": [
      "0.5179229962405595\n",
      "              precision    recall  f1-score   support\n",
      "\n",
      "           0       0.90      0.99      0.95     60004\n",
      "           1       0.93      0.62      0.74      7531\n",
      "           2       0.97      0.45      0.62      2829\n",
      "           3       0.96      0.49      0.65       479\n",
      "           4       0.98      0.50      0.66      1919\n",
      "           5       0.97      0.44      0.60       603\n",
      "           6       0.97      0.45      0.62       662\n",
      "           7       0.92      0.35      0.51       311\n",
      "\n",
      "    accuracy                           0.91     74338\n",
      "   macro avg       0.95      0.54      0.67     74338\n",
      "weighted avg       0.91      0.91      0.90     74338\n",
      "\n",
      "0.9078129624149156\n"
     ]
    }
   ],
   "source": [
    "train = pd.read_csv('all_tiles_sample2.csv')\n",
    "X = train.loc[:, train.columns != 'class']\n",
    "y = train[['class']]\n",
    "\n",
    "X = X.rename(columns={x:y for x,y in zip(X.columns,range(0,len(X.columns)))})\n",
    "X.fillna(0, inplace=True)\n",
    "y.fillna(0, inplace=True)\n",
    "X_train, X_test, y_train, y_test = train_test_split(X, y.values.ravel(), test_size=0.3, random_state=42)\n",
    "\n",
    "rf = RandomForestClassifier(n_estimators=10, min_samples_split= 2, min_samples_leaf = 3, max_features=10, max_depth=None, criterion='entropy').fit(X_train, y_train)\n",
    "\n",
    "y_pred = rf.predict(X_test)\n",
    "y_prob = rf.predict_proba(X_test)\n",
    "print(log_loss(y_test, y_prob))\n",
    "print(classification_report(y_test, y_pred))\n",
    "print(accuracy_score(y_test, y_pred))"
   ]
  },
  {
   "cell_type": "code",
   "execution_count": 4,
   "metadata": {},
   "outputs": [
    {
     "name": "stderr",
     "output_type": "stream",
     "text": [
      "/tmp/ipykernel_24629/2028640509.py:7: SettingWithCopyWarning: \n",
      "A value is trying to be set on a copy of a slice from a DataFrame\n",
      "\n",
      "See the caveats in the documentation: https://pandas.pydata.org/pandas-docs/stable/user_guide/indexing.html#returning-a-view-versus-a-copy\n",
      "  y.fillna(0, inplace=True)\n"
     ]
    },
    {
     "name": "stdout",
     "output_type": "stream",
     "text": [
      "0.5482642053574184\n",
      "              precision    recall  f1-score   support\n",
      "\n",
      "           0       0.90      0.99      0.94     59999\n",
      "           1       0.92      0.59      0.72      7533\n",
      "           2       0.96      0.42      0.58      2828\n",
      "           3       0.94      0.43      0.59       479\n",
      "           4       0.97      0.46      0.62      1925\n",
      "           5       0.96      0.45      0.61       604\n",
      "           6       0.98      0.42      0.59       660\n",
      "           7       0.94      0.38      0.55       310\n",
      "\n",
      "    accuracy                           0.90     74338\n",
      "   macro avg       0.95      0.52      0.65     74338\n",
      "weighted avg       0.91      0.90      0.89     74338\n",
      "\n",
      "0.9022976136027334\n"
     ]
    }
   ],
   "source": [
    "train = pd.read_csv('all_tiles_sample3.csv')\n",
    "X = train.loc[:, train.columns != 'class']\n",
    "y = train[['class']]\n",
    "\n",
    "X = X.rename(columns={x:y for x,y in zip(X.columns,range(0,len(X.columns)))})\n",
    "X.fillna(0, inplace=True)\n",
    "y.fillna(0, inplace=True)\n",
    "X_train, X_test, y_train, y_test = train_test_split(X, y.values.ravel(), test_size=0.3, random_state=42)\n",
    "\n",
    "rf = RandomForestClassifier(n_estimators=10, min_samples_split= 2, min_samples_leaf = 3, max_features=10, max_depth=None, criterion='entropy').fit(X_train, y_train)\n",
    "\n",
    "\n",
    "y_pred = rf.predict(X_test)\n",
    "y_prob = rf.predict_proba(X_test)\n",
    "print(log_loss(y_test, y_prob))\n",
    "print(classification_report(y_test, y_pred))\n",
    "print(accuracy_score(y_test, y_pred))"
   ]
  },
  {
   "cell_type": "code",
   "execution_count": 5,
   "metadata": {},
   "outputs": [
    {
     "name": "stderr",
     "output_type": "stream",
     "text": [
      "/tmp/ipykernel_24629/1188003684.py:7: SettingWithCopyWarning: \n",
      "A value is trying to be set on a copy of a slice from a DataFrame\n",
      "\n",
      "See the caveats in the documentation: https://pandas.pydata.org/pandas-docs/stable/user_guide/indexing.html#returning-a-view-versus-a-copy\n",
      "  y.fillna(0, inplace=True)\n"
     ]
    },
    {
     "name": "stdout",
     "output_type": "stream",
     "text": [
      "0.5299013202551536\n",
      "              precision    recall  f1-score   support\n",
      "\n",
      "           0       0.90      0.99      0.95     60000\n",
      "           1       0.92      0.60      0.73      7532\n",
      "           2       0.96      0.43      0.59      2830\n",
      "           3       0.95      0.43      0.59       482\n",
      "           4       0.97      0.49      0.65      1921\n",
      "           5       0.97      0.43      0.60       605\n",
      "           6       0.99      0.43      0.60       659\n",
      "           7       0.92      0.36      0.51       309\n",
      "\n",
      "    accuracy                           0.90     74338\n",
      "   macro avg       0.95      0.52      0.65     74338\n",
      "weighted avg       0.91      0.90      0.89     74338\n",
      "\n",
      "0.9044903010573327\n"
     ]
    }
   ],
   "source": [
    "train = pd.read_csv('all_tiles_sample4.csv')\n",
    "X = train.loc[:, train.columns != 'class']\n",
    "y = train[['class']]\n",
    "\n",
    "X = X.rename(columns={x:y for x,y in zip(X.columns,range(0,len(X.columns)))})\n",
    "X.fillna(0, inplace=True)\n",
    "y.fillna(0, inplace=True)\n",
    "X_train, X_test, y_train, y_test = train_test_split(X, y.values.ravel(), test_size=0.3, random_state=42)\n",
    "\n",
    "rf = RandomForestClassifier(n_estimators=10, min_samples_split= 2, min_samples_leaf = 3, max_features=10, max_depth=None, criterion='entropy').fit(X_train, y_train)\n",
    "\n",
    "\n",
    "y_pred = rf.predict(X_test)\n",
    "y_prob = rf.predict_proba(X_test)\n",
    "print(log_loss(y_test, y_prob))\n",
    "print(classification_report(y_test, y_pred))\n",
    "print(accuracy_score(y_test, y_pred))"
   ]
  },
  {
   "cell_type": "code",
   "execution_count": 6,
   "metadata": {},
   "outputs": [
    {
     "name": "stderr",
     "output_type": "stream",
     "text": [
      "/tmp/ipykernel_24629/2103913668.py:7: SettingWithCopyWarning: \n",
      "A value is trying to be set on a copy of a slice from a DataFrame\n",
      "\n",
      "See the caveats in the documentation: https://pandas.pydata.org/pandas-docs/stable/user_guide/indexing.html#returning-a-view-versus-a-copy\n",
      "  y.fillna(0, inplace=True)\n"
     ]
    },
    {
     "name": "stdout",
     "output_type": "stream",
     "text": [
      "0.5281327126727648\n",
      "              precision    recall  f1-score   support\n",
      "\n",
      "           0       0.90      1.00      0.94     60002\n",
      "           1       0.93      0.59      0.72      7519\n",
      "           2       0.96      0.43      0.59      2833\n",
      "           3       0.95      0.43      0.60       480\n",
      "           4       0.96      0.46      0.62      1926\n",
      "           5       0.98      0.42      0.59       606\n",
      "           6       0.98      0.43      0.60       663\n",
      "           7       0.94      0.33      0.49       309\n",
      "\n",
      "    accuracy                           0.90     74338\n",
      "   macro avg       0.95      0.51      0.64     74338\n",
      "weighted avg       0.91      0.90      0.89     74338\n",
      "\n",
      "0.9027818881325836\n"
     ]
    }
   ],
   "source": [
    "train = pd.read_csv('all_tiles_sample5.csv')\n",
    "X = train.loc[:, train.columns != 'class']\n",
    "y = train[['class']]\n",
    "\n",
    "X = X.rename(columns={x:y for x,y in zip(X.columns,range(0,len(X.columns)))})\n",
    "X.fillna(0, inplace=True)\n",
    "y.fillna(0, inplace=True)\n",
    "X_train, X_test, y_train, y_test = train_test_split(X, y.values.ravel(), test_size=0.3, random_state=42)\n",
    "\n",
    "rf = RandomForestClassifier(n_estimators=10, min_samples_split= 2, min_samples_leaf = 3, max_features=10, max_depth=None, criterion='entropy').fit(X_train, y_train)\n",
    "\n",
    "\n",
    "y_pred = rf.predict(X_test)\n",
    "y_prob = rf.predict_proba(X_test)\n",
    "print(log_loss(y_test, y_prob))\n",
    "print(classification_report(y_test, y_pred))\n",
    "print(accuracy_score(y_test, y_pred))"
   ]
  },
  {
   "cell_type": "code",
   "execution_count": 7,
   "metadata": {},
   "outputs": [
    {
     "name": "stderr",
     "output_type": "stream",
     "text": [
      "/tmp/ipykernel_24629/2069512487.py:7: SettingWithCopyWarning: \n",
      "A value is trying to be set on a copy of a slice from a DataFrame\n",
      "\n",
      "See the caveats in the documentation: https://pandas.pydata.org/pandas-docs/stable/user_guide/indexing.html#returning-a-view-versus-a-copy\n",
      "  y.fillna(0, inplace=True)\n"
     ]
    },
    {
     "name": "stdout",
     "output_type": "stream",
     "text": [
      "0.5569120553745269\n",
      "              precision    recall  f1-score   support\n",
      "\n",
      "           0       0.90      1.00      0.94     60002\n",
      "           1       0.93      0.58      0.71      7526\n",
      "           2       0.96      0.42      0.58      2831\n",
      "           3       0.95      0.45      0.61       477\n",
      "           4       0.96      0.43      0.60      1926\n",
      "           5       0.97      0.39      0.56       605\n",
      "           6       0.99      0.43      0.59       661\n",
      "           7       0.93      0.34      0.49       310\n",
      "\n",
      "    accuracy                           0.90     74338\n",
      "   macro avg       0.95      0.50      0.64     74338\n",
      "weighted avg       0.90      0.90      0.89     74338\n",
      "\n",
      "0.8998089806021147\n"
     ]
    }
   ],
   "source": [
    "train = pd.read_csv('all_tiles_sample6.csv')\n",
    "X = train.loc[:, train.columns != 'class']\n",
    "y = train[['class']]\n",
    "\n",
    "X = X.rename(columns={x:y for x,y in zip(X.columns,range(0,len(X.columns)))})\n",
    "X.fillna(0, inplace=True)\n",
    "y.fillna(0, inplace=True)\n",
    "X_train, X_test, y_train, y_test = train_test_split(X, y.values.ravel(), test_size=0.3, random_state=42)\n",
    "\n",
    "rf = RandomForestClassifier(n_estimators=10, min_samples_split= 2, min_samples_leaf = 3, max_features=10, max_depth=None, criterion='entropy').fit(X_train, y_train)\n",
    "\n",
    "y_pred = rf.predict(X_test)\n",
    "y_prob = rf.predict_proba(X_test)\n",
    "print(log_loss(y_test, y_prob))\n",
    "print(classification_report(y_test, y_pred))\n",
    "print(accuracy_score(y_test, y_pred))"
   ]
  },
  {
   "cell_type": "code",
   "execution_count": 8,
   "metadata": {},
   "outputs": [
    {
     "name": "stderr",
     "output_type": "stream",
     "text": [
      "/tmp/ipykernel_24629/609367186.py:7: SettingWithCopyWarning: \n",
      "A value is trying to be set on a copy of a slice from a DataFrame\n",
      "\n",
      "See the caveats in the documentation: https://pandas.pydata.org/pandas-docs/stable/user_guide/indexing.html#returning-a-view-versus-a-copy\n",
      "  y.fillna(0, inplace=True)\n"
     ]
    },
    {
     "name": "stdout",
     "output_type": "stream",
     "text": [
      "0.568858219272155\n",
      "              precision    recall  f1-score   support\n",
      "\n",
      "           0       0.90      0.99      0.94     60005\n",
      "           1       0.92      0.59      0.72      7529\n",
      "           2       0.96      0.41      0.57      2832\n",
      "           3       0.95      0.42      0.58       479\n",
      "           4       0.96      0.46      0.63      1919\n",
      "           5       0.97      0.41      0.58       606\n",
      "           6       0.98      0.42      0.59       659\n",
      "           7       0.94      0.35      0.51       309\n",
      "\n",
      "    accuracy                           0.90     74338\n",
      "   macro avg       0.95      0.51      0.64     74338\n",
      "weighted avg       0.91      0.90      0.89     74338\n",
      "\n",
      "0.9012618041916651\n"
     ]
    }
   ],
   "source": [
    "train = pd.read_csv('all_tiles_sample7.csv')\n",
    "X = train.loc[:, train.columns != 'class']\n",
    "y = train[['class']]\n",
    "\n",
    "X = X.rename(columns={x:y for x,y in zip(X.columns,range(0,len(X.columns)))})\n",
    "X.fillna(0, inplace=True)\n",
    "y.fillna(0, inplace=True)\n",
    "X_train, X_test, y_train, y_test = train_test_split(X, y.values.ravel(), test_size=0.3, random_state=42)\n",
    "\n",
    "rf = RandomForestClassifier(n_estimators=10, min_samples_split= 2, min_samples_leaf = 3, max_features=10, max_depth=None, criterion='entropy').fit(X_train, y_train)\n",
    "\n",
    "\n",
    "y_pred = rf.predict(X_test)\n",
    "y_prob = rf.predict_proba(X_test)\n",
    "print(log_loss(y_test, y_prob))\n",
    "print(classification_report(y_test, y_pred))\n",
    "print(accuracy_score(y_test, y_pred))"
   ]
  },
  {
   "cell_type": "code",
   "execution_count": 9,
   "metadata": {},
   "outputs": [
    {
     "name": "stderr",
     "output_type": "stream",
     "text": [
      "/tmp/ipykernel_24629/704070545.py:7: SettingWithCopyWarning: \n",
      "A value is trying to be set on a copy of a slice from a DataFrame\n",
      "\n",
      "See the caveats in the documentation: https://pandas.pydata.org/pandas-docs/stable/user_guide/indexing.html#returning-a-view-versus-a-copy\n",
      "  y.fillna(0, inplace=True)\n"
     ]
    },
    {
     "name": "stdout",
     "output_type": "stream",
     "text": [
      "0.5329717728599311\n",
      "              precision    recall  f1-score   support\n",
      "\n",
      "           0       0.90      0.99      0.94     59984\n",
      "           1       0.93      0.60      0.73      7541\n",
      "           2       0.96      0.43      0.59      2833\n",
      "           3       0.94      0.43      0.59       477\n",
      "           4       0.96      0.49      0.65      1925\n",
      "           5       0.97      0.41      0.58       605\n",
      "           6       0.99      0.40      0.57       662\n",
      "           7       0.94      0.38      0.54       311\n",
      "\n",
      "    accuracy                           0.90     74338\n",
      "   macro avg       0.95      0.52      0.65     74338\n",
      "weighted avg       0.91      0.90      0.89     74338\n",
      "\n",
      "0.9041270951599452\n"
     ]
    }
   ],
   "source": [
    "train = pd.read_csv('all_tiles_sample8.csv')\n",
    "X = train.loc[:, train.columns != 'class']\n",
    "y = train[['class']]\n",
    "\n",
    "X = X.rename(columns={x:y for x,y in zip(X.columns,range(0,len(X.columns)))})\n",
    "X.fillna(0, inplace=True)\n",
    "y.fillna(0, inplace=True)\n",
    "X_train, X_test, y_train, y_test = train_test_split(X, y.values.ravel(), test_size=0.3, random_state=42)\n",
    "\n",
    "rf = RandomForestClassifier(n_estimators=10, min_samples_split= 2, min_samples_leaf = 3, max_features=10, max_depth=None, criterion='entropy').fit(X_train, y_train)\n",
    "\n",
    "y_pred = rf.predict(X_test)\n",
    "y_prob = rf.predict_proba(X_test)\n",
    "print(log_loss(y_test, y_prob))\n",
    "print(classification_report(y_test, y_pred))\n",
    "print(accuracy_score(y_test, y_pred))"
   ]
  },
  {
   "cell_type": "code",
   "execution_count": 10,
   "metadata": {},
   "outputs": [
    {
     "name": "stderr",
     "output_type": "stream",
     "text": [
      "/tmp/ipykernel_24629/1659775143.py:7: SettingWithCopyWarning: \n",
      "A value is trying to be set on a copy of a slice from a DataFrame\n",
      "\n",
      "See the caveats in the documentation: https://pandas.pydata.org/pandas-docs/stable/user_guide/indexing.html#returning-a-view-versus-a-copy\n",
      "  y.fillna(0, inplace=True)\n"
     ]
    },
    {
     "name": "stdout",
     "output_type": "stream",
     "text": [
      "0.5645835338649904\n",
      "              precision    recall  f1-score   support\n",
      "\n",
      "           0       0.90      0.99      0.94     59993\n",
      "           1       0.92      0.58      0.72      7534\n",
      "           2       0.96      0.40      0.57      2838\n",
      "           3       0.96      0.42      0.58       476\n",
      "           4       0.97      0.45      0.61      1925\n",
      "           5       0.97      0.41      0.58       603\n",
      "           6       0.99      0.42      0.59       662\n",
      "           7       0.94      0.32      0.48       307\n",
      "\n",
      "    accuracy                           0.90     74338\n",
      "   macro avg       0.95      0.50      0.63     74338\n",
      "weighted avg       0.90      0.90      0.89     74338\n",
      "\n",
      "0.9001183782184078\n"
     ]
    }
   ],
   "source": [
    "train = pd.read_csv('all_tiles_sample9.csv')\n",
    "X = train.loc[:, train.columns != 'class']\n",
    "y = train[['class']]\n",
    "\n",
    "X = X.rename(columns={x:y for x,y in zip(X.columns,range(0,len(X.columns)))})\n",
    "X.fillna(0, inplace=True)\n",
    "y.fillna(0, inplace=True)\n",
    "X_train, X_test, y_train, y_test = train_test_split(X, y.values.ravel(), test_size=0.3, random_state=42)\n",
    "\n",
    "rf = RandomForestClassifier(n_estimators=10, min_samples_split= 2, min_samples_leaf = 3, max_features=10, max_depth=None, criterion='entropy').fit(X_train, y_train)\n",
    "\n",
    "y_pred = rf.predict(X_test)\n",
    "y_prob = rf.predict_proba(X_test)\n",
    "print(log_loss(y_test, y_prob))\n",
    "print(classification_report(y_test, y_pred))\n",
    "print(accuracy_score(y_test, y_pred))"
   ]
  },
  {
   "cell_type": "code",
   "execution_count": 11,
   "metadata": {},
   "outputs": [
    {
     "name": "stderr",
     "output_type": "stream",
     "text": [
      "/tmp/ipykernel_24629/4256915627.py:7: SettingWithCopyWarning: \n",
      "A value is trying to be set on a copy of a slice from a DataFrame\n",
      "\n",
      "See the caveats in the documentation: https://pandas.pydata.org/pandas-docs/stable/user_guide/indexing.html#returning-a-view-versus-a-copy\n",
      "  y.fillna(0, inplace=True)\n"
     ]
    },
    {
     "name": "stdout",
     "output_type": "stream",
     "text": [
      "0.5597835191195029\n",
      "              precision    recall  f1-score   support\n",
      "\n",
      "           0       0.90      1.00      0.94     60002\n",
      "           1       0.93      0.58      0.72      7527\n",
      "           2       0.96      0.41      0.57      2835\n",
      "           3       0.96      0.42      0.59       479\n",
      "           4       0.97      0.45      0.61      1922\n",
      "           5       0.98      0.42      0.58       604\n",
      "           6       0.98      0.43      0.60       660\n",
      "           7       0.96      0.34      0.51       309\n",
      "\n",
      "    accuracy                           0.90     74338\n",
      "   macro avg       0.95      0.51      0.64     74338\n",
      "weighted avg       0.91      0.90      0.89     74338\n",
      "\n",
      "0.9006968172401733\n"
     ]
    }
   ],
   "source": [
    "train = pd.read_csv('all_tiles_sample10.csv')\n",
    "X = train.loc[:, train.columns != 'class']\n",
    "y = train[['class']]\n",
    "\n",
    "X = X.rename(columns={x:y for x,y in zip(X.columns,range(0,len(X.columns)))})\n",
    "X.fillna(0, inplace=True)\n",
    "y.fillna(0, inplace=True)\n",
    "X_train, X_test, y_train, y_test = train_test_split(X, y.values.ravel(), test_size=0.3, random_state=42)\n",
    "\n",
    "rf = RandomForestClassifier(n_estimators=10, min_samples_split= 2, min_samples_leaf = 3, max_features=10, max_depth=None, criterion='entropy').fit(X_train, y_train)\n",
    "\n",
    "y_pred = rf.predict(X_test)\n",
    "y_prob = rf.predict_proba(X_test)\n",
    "print(log_loss(y_test, y_prob))\n",
    "print(classification_report(y_test, y_pred))\n",
    "print(accuracy_score(y_test, y_pred))"
   ]
  },
  {
   "cell_type": "code",
   "execution_count": null,
   "metadata": {},
   "outputs": [],
   "source": []
  }
 ],
 "metadata": {
  "kernelspec": {
   "display_name": "Python 3",
   "language": "python",
   "name": "python3"
  },
  "language_info": {
   "codemirror_mode": {
    "name": "ipython",
    "version": 3
   },
   "file_extension": ".py",
   "mimetype": "text/x-python",
   "name": "python",
   "nbconvert_exporter": "python",
   "pygments_lexer": "ipython3",
   "version": "3.10.13"
  }
 },
 "nbformat": 4,
 "nbformat_minor": 2
}
